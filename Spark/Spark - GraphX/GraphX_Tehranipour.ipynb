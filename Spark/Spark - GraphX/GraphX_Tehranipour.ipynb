{
  "nbformat": 4,
  "nbformat_minor": 0,
  "metadata": {
    "colab": {
      "provenance": [],
      "collapsed_sections": [
        "Eufj48LQP6qq",
        "NO9yVilyPw9h",
        "j5ZvzgdEPtAR",
        "N-OCqo_cPpSJ"
      ]
    },
    "kernelspec": {
      "name": "python3",
      "display_name": "Python 3"
    },
    "language_info": {
      "name": "python"
    }
  },
  "cells": [
    {
      "cell_type": "code",
      "execution_count": null,
      "metadata": {
        "colab": {
          "base_uri": "https://localhost:8080/"
        },
        "id": "9EWMPlfBOzCL",
        "outputId": "36a984ec-04b5-474d-971c-ce78fb891edf"
      },
      "outputs": [
        {
          "output_type": "stream",
          "name": "stdout",
          "text": [
            "Collecting pyspark\n",
            "  Downloading pyspark-3.5.1.tar.gz (317.0 MB)\n",
            "\u001b[2K     \u001b[90m━━━━━━━━━━━━━━━━━━━━━━━━━━━━━━━━━━━━━━━━\u001b[0m \u001b[32m317.0/317.0 MB\u001b[0m \u001b[31m3.8 MB/s\u001b[0m eta \u001b[36m0:00:00\u001b[0m\n",
            "\u001b[?25h  Preparing metadata (setup.py) ... \u001b[?25l\u001b[?25hdone\n",
            "Requirement already satisfied: py4j==0.10.9.7 in /usr/local/lib/python3.10/dist-packages (from pyspark) (0.10.9.7)\n",
            "Building wheels for collected packages: pyspark\n",
            "  Building wheel for pyspark (setup.py) ... \u001b[?25l\u001b[?25hdone\n",
            "  Created wheel for pyspark: filename=pyspark-3.5.1-py2.py3-none-any.whl size=317488491 sha256=dd645cb86df63608a5d8576be868d82bb3ecbfaf9fe5c94955b90d3c1a7a79b5\n",
            "  Stored in directory: /root/.cache/pip/wheels/80/1d/60/2c256ed38dddce2fdd93be545214a63e02fbd8d74fb0b7f3a6\n",
            "Successfully built pyspark\n",
            "Installing collected packages: pyspark\n",
            "Successfully installed pyspark-3.5.1\n"
          ]
        }
      ],
      "source": [
        "!pip install pyspark"
      ]
    },
    {
      "cell_type": "code",
      "source": [
        "!pip install graphframes"
      ],
      "metadata": {
        "colab": {
          "base_uri": "https://localhost:8080/"
        },
        "id": "knBp1s0qO8Rp",
        "outputId": "0e8e04e7-ac8a-4db5-9804-2798a0dd41f9"
      },
      "execution_count": null,
      "outputs": [
        {
          "output_type": "stream",
          "name": "stdout",
          "text": [
            "Collecting graphframes\n",
            "  Downloading graphframes-0.6-py2.py3-none-any.whl (18 kB)\n",
            "Requirement already satisfied: numpy in /usr/local/lib/python3.10/dist-packages (from graphframes) (1.25.2)\n",
            "Collecting nose (from graphframes)\n",
            "  Downloading nose-1.3.7-py3-none-any.whl (154 kB)\n",
            "\u001b[2K     \u001b[90m━━━━━━━━━━━━━━━━━━━━━━━━━━━━━━━━━━━━━━━━\u001b[0m \u001b[32m154.7/154.7 kB\u001b[0m \u001b[31m4.1 MB/s\u001b[0m eta \u001b[36m0:00:00\u001b[0m\n",
            "\u001b[?25hInstalling collected packages: nose, graphframes\n",
            "Successfully installed graphframes-0.6 nose-1.3.7\n"
          ]
        }
      ]
    },
    {
      "cell_type": "code",
      "source": [
        "!curl -L -o \"/usr/local/lib/python3.6/dist-packages/pyspark/jars/graphframes-0.8.2-spark3.2-s_2.12.jar\" http://dl.bintray.com/spark-packages/maven/graphframes/graphframes/0.8.2-spark3.2-s_2.12/graphframes-0.8.2-spark3.2-s_2.12.jar"
      ],
      "metadata": {
        "colab": {
          "base_uri": "https://localhost:8080/"
        },
        "id": "3bzExAviO-sL",
        "outputId": "236ba98b-d541-4123-da6c-c1a1f8cdd888"
      },
      "execution_count": null,
      "outputs": [
        {
          "output_type": "stream",
          "name": "stdout",
          "text": [
            "  % Total    % Received % Xferd  Average Speed   Time    Time     Time  Current\n",
            "                                 Dload  Upload   Total   Spent    Left  Speed\n",
            "100   164  100   164    0     0    379      0 --:--:-- --:--:-- --:--:--   379\n",
            "  0     0    0     0    0     0      0      0 --:--:-- --:--:-- --:--:--     0Warning: Failed to create the file \n",
            "Warning: /usr/local/lib/python3.6/dist-packages/pyspark/jars/graphframes-0.8.2-\n",
            "Warning: spark3.2-s_2.12.jar: No such file or directory\n",
            "100   146  100   146    0     0    118      0  0:00:01  0:00:01 --:--:--   398\n",
            "curl: (23) Failure writing output to destination\n"
          ]
        }
      ]
    },
    {
      "cell_type": "code",
      "source": [
        "from pyspark.sql import SparkSession\n",
        "from graphframes import GraphFrame"
      ],
      "metadata": {
        "id": "jSBactx4O-3x"
      },
      "execution_count": null,
      "outputs": []
    },
    {
      "cell_type": "code",
      "source": [
        "spark = SparkSession.builder.master(\"local[*]\").config(\"spark.jars.packages\", \"graphframes:graphframes:0.8.2-spark3.2-s_2.12\").getOrCreate()"
      ],
      "metadata": {
        "id": "nS1eGXOgPAjJ"
      },
      "execution_count": null,
      "outputs": []
    },
    {
      "cell_type": "code",
      "source": [
        "vertices = spark.createDataFrame([('1', 'Carter', 'Derrick', 50),\n",
        "                                  ('2', 'May', 'Derrick', 26),\n",
        "                                 ('3', 'Mills', 'Jeff', 80),\n",
        "                                  ('4', 'Hood', 'Robert', 65),\n",
        "                                  ('5', 'Banks', 'Mike', 93),\n",
        "                                 ('98', 'Berg', 'Tim', 28),\n",
        "                                 ('99', 'Page', 'Allan', 16)],\n",
        "                                 ['id', 'name', 'firstname', 'age'])\n",
        "edges = spark.createDataFrame([('1', '2', 'friend'),\n",
        "                               ('2', '1', 'friend'),\n",
        "                              ('3', '1', 'friend'),\n",
        "                              ('1', '3', 'friend'),\n",
        "                               ('2', '3', 'follows'),\n",
        "                               ('3', '4', 'friend'),\n",
        "                               ('4', '3', 'friend'),\n",
        "                               ('5', '3', 'friend'),\n",
        "                               ('3', '5', 'friend'),\n",
        "                               ('4', '5', 'follows'),\n",
        "                              ('98', '99', 'friend'),\n",
        "                              ('99', '98', 'friend')],\n",
        "                              ['src', 'dst', 'type'])"
      ],
      "metadata": {
        "id": "4-XtmodZPBoR"
      },
      "execution_count": null,
      "outputs": []
    },
    {
      "cell_type": "code",
      "source": [
        "g = GraphFrame(vertices, edges)\n",
        "## Take a look at the DataFrames\n",
        "print(\"Veritices\")\n",
        "g.vertices.show()\n",
        "print(\"Edges\")\n",
        "g.edges.show()\n",
        "print(\"Degrees\")\n",
        "g.degrees.show()"
      ],
      "metadata": {
        "colab": {
          "base_uri": "https://localhost:8080/"
        },
        "id": "9Uv6VLRXPEkg",
        "outputId": "e694667b-4897-4eba-ba70-443e21b468f2"
      },
      "execution_count": null,
      "outputs": [
        {
          "output_type": "stream",
          "name": "stderr",
          "text": [
            "/usr/local/lib/python3.10/dist-packages/pyspark/sql/dataframe.py:168: UserWarning: DataFrame.sql_ctx is an internal property, and will be removed in future releases. Use DataFrame.sparkSession instead.\n",
            "  warnings.warn(\n"
          ]
        },
        {
          "output_type": "stream",
          "name": "stdout",
          "text": [
            "Veritices\n",
            "+---+------+---------+---+\n",
            "| id|  name|firstname|age|\n",
            "+---+------+---------+---+\n",
            "|  1|Carter|  Derrick| 50|\n",
            "|  2|   May|  Derrick| 26|\n",
            "|  3| Mills|     Jeff| 80|\n",
            "|  4|  Hood|   Robert| 65|\n",
            "|  5| Banks|     Mike| 93|\n",
            "| 98|  Berg|      Tim| 28|\n",
            "| 99|  Page|    Allan| 16|\n",
            "+---+------+---------+---+\n",
            "\n",
            "Edges\n",
            "+---+---+-------+\n",
            "|src|dst|   type|\n",
            "+---+---+-------+\n",
            "|  1|  2| friend|\n",
            "|  2|  1| friend|\n",
            "|  3|  1| friend|\n",
            "|  1|  3| friend|\n",
            "|  2|  3|follows|\n",
            "|  3|  4| friend|\n",
            "|  4|  3| friend|\n",
            "|  5|  3| friend|\n",
            "|  3|  5| friend|\n",
            "|  4|  5|follows|\n",
            "| 98| 99| friend|\n",
            "| 99| 98| friend|\n",
            "+---+---+-------+\n",
            "\n",
            "Degrees\n"
          ]
        },
        {
          "output_type": "stream",
          "name": "stderr",
          "text": [
            "/usr/local/lib/python3.10/dist-packages/pyspark/sql/dataframe.py:147: UserWarning: DataFrame constructor is internal. Do not directly use it.\n",
            "  warnings.warn(\"DataFrame constructor is internal. Do not directly use it.\")\n"
          ]
        },
        {
          "output_type": "stream",
          "name": "stdout",
          "text": [
            "+---+------+\n",
            "| id|degree|\n",
            "+---+------+\n",
            "|  3|     7|\n",
            "|  1|     4|\n",
            "|  4|     3|\n",
            "|  2|     3|\n",
            "| 98|     2|\n",
            "| 99|     2|\n",
            "|  5|     3|\n",
            "+---+------+\n",
            "\n"
          ]
        }
      ]
    },
    {
      "cell_type": "code",
      "source": [
        "nodes = list(map(lambda r: r.id, g.vertices.select(\"id\").collect()))\n",
        "nodes"
      ],
      "metadata": {
        "colab": {
          "base_uri": "https://localhost:8080/"
        },
        "id": "uZPSDNYDPIVw",
        "outputId": "d45b289c-c761-47d0-85e6-776064767689"
      },
      "execution_count": null,
      "outputs": [
        {
          "output_type": "execute_result",
          "data": {
            "text/plain": [
              "['1', '2', '3', '4', '5', '98', '99']"
            ]
          },
          "metadata": {},
          "execution_count": 8
        }
      ]
    },
    {
      "cell_type": "code",
      "source": [
        "edges = [(r.src, r.dst) for r in g.edges.select(\"src\", \"dst\").collect()]\n",
        "edges"
      ],
      "metadata": {
        "colab": {
          "base_uri": "https://localhost:8080/"
        },
        "id": "J5Vlmjo2PKbp",
        "outputId": "e80d0e4d-423e-403f-f644-14a0d402147f"
      },
      "execution_count": null,
      "outputs": [
        {
          "output_type": "execute_result",
          "data": {
            "text/plain": [
              "[('1', '2'),\n",
              " ('2', '1'),\n",
              " ('3', '1'),\n",
              " ('1', '3'),\n",
              " ('2', '3'),\n",
              " ('3', '4'),\n",
              " ('4', '3'),\n",
              " ('5', '3'),\n",
              " ('3', '5'),\n",
              " ('4', '5'),\n",
              " ('98', '99'),\n",
              " ('99', '98')]"
            ]
          },
          "metadata": {},
          "execution_count": 9
        }
      ]
    },
    {
      "cell_type": "markdown",
      "source": [
        "# Drawing graph using networkx"
      ],
      "metadata": {
        "id": "OaAAEet9PP1i"
      }
    },
    {
      "cell_type": "code",
      "source": [
        "import networkx as nx\n",
        "G = nx.Graph()\n",
        "G.add_nodes_from(nodes)\n",
        "G.add_edges_from(edges)\n",
        "\n",
        "options = {\n",
        "    'node_color': 'steelblue',\n",
        "    \"font_color\": \"white\",\n",
        "    'node_size': 1000,\n",
        "    'width': 3,\n",
        "    'font_weight': 'bold'\n",
        "}\n",
        "\n",
        "nx.draw_shell(G, with_labels=True, **options)"
      ],
      "metadata": {
        "colab": {
          "base_uri": "https://localhost:8080/",
          "height": 516
        },
        "id": "8QkNHWRsPOCg",
        "outputId": "96659661-2d50-45d5-8714-b1563f6c17a5"
      },
      "execution_count": null,
      "outputs": [
        {
          "output_type": "display_data",
          "data": {
            "text/plain": [
              "<Figure size 640x480 with 1 Axes>"
            ],
            "image/png": "[encoded data removed]"
          },
          "metadata": {}
        }
      ]
    },
    {
      "cell_type": "code",
      "source": [
        "g.edges.filter('type == \"friend\"').show()"
      ],
      "metadata": {
        "colab": {
          "base_uri": "https://localhost:8080/"
        },
        "id": "wzdE4YrCPU-h",
        "outputId": "a363da51-d979-4629-f494-7c6c470fa5ed"
      },
      "execution_count": null,
      "outputs": [
        {
          "output_type": "stream",
          "name": "stdout",
          "text": [
            "+---+---+------+\n",
            "|src|dst|  type|\n",
            "+---+---+------+\n",
            "|  1|  2|friend|\n",
            "|  2|  1|friend|\n",
            "|  3|  1|friend|\n",
            "|  1|  3|friend|\n",
            "|  3|  4|friend|\n",
            "|  4|  3|friend|\n",
            "|  5|  3|friend|\n",
            "|  3|  5|friend|\n",
            "| 98| 99|friend|\n",
            "| 99| 98|friend|\n",
            "+---+---+------+\n",
            "\n"
          ]
        }
      ]
    },
    {
      "cell_type": "markdown",
      "source": [
        "## Motif finding"
      ],
      "metadata": {
        "id": "Eufj48LQP6qq"
      }
    },
    {
      "cell_type": "markdown",
      "source": [
        "Finding motifs helps to execute queries to discover structural patterns in graphs. Network motifs are patterns that occur repeatedly in the graph and represent the relationships between the vertices. GraphFrames motif finding uses a declarative Domain Specific Language (DSL) for expressing structural queries. The query can be invoked by using the find-function, where the motif (in quotation marks) is expressed as the first parameter of the function. The following example will search for pairs of vertices a,b connected by edge e and pairs of vertices b,c connected by edge e2. It will return a DataFrame of all such structures in the graph, with columns for each of the named elements (vertices or edges) in the motif."
      ],
      "metadata": {
        "id": "EcBVmyfAP72Z"
      }
    },
    {
      "cell_type": "code",
      "source": [
        "g.find(\"(a)-[e]->(b); (b)-[e2]->(c)\").show()"
      ],
      "metadata": {
        "colab": {
          "base_uri": "https://localhost:8080/"
        },
        "id": "5yFKGKt7PXUp",
        "outputId": "6ade6a90-13ba-4831-eb4a-0f79d21dc38a"
      },
      "execution_count": null,
      "outputs": [
        {
          "output_type": "stream",
          "name": "stdout",
          "text": [
            "+--------------------+---------------+--------------------+---------------+--------------------+\n",
            "|                   a|              e|                   b|             e2|                   c|\n",
            "+--------------------+---------------+--------------------+---------------+--------------------+\n",
            "|{1, Carter, Derri...| {1, 2, friend}|{2, May, Derrick,...| {2, 1, friend}|{1, Carter, Derri...|\n",
            "|{5, Banks, Mike, 93}| {5, 3, friend}|{3, Mills, Jeff, 80}| {3, 1, friend}|{1, Carter, Derri...|\n",
            "|{4, Hood, Robert,...| {4, 3, friend}|{3, Mills, Jeff, 80}| {3, 1, friend}|{1, Carter, Derri...|\n",
            "|{2, May, Derrick,...|{2, 3, follows}|{3, Mills, Jeff, 80}| {3, 1, friend}|{1, Carter, Derri...|\n",
            "|{1, Carter, Derri...| {1, 3, friend}|{3, Mills, Jeff, 80}| {3, 1, friend}|{1, Carter, Derri...|\n",
            "|{3, Mills, Jeff, 80}| {3, 1, friend}|{1, Carter, Derri...| {1, 2, friend}|{2, May, Derrick,...|\n",
            "|{2, May, Derrick,...| {2, 1, friend}|{1, Carter, Derri...| {1, 2, friend}|{2, May, Derrick,...|\n",
            "|{3, Mills, Jeff, 80}| {3, 1, friend}|{1, Carter, Derri...| {1, 3, friend}|{3, Mills, Jeff, 80}|\n",
            "|{2, May, Derrick,...| {2, 1, friend}|{1, Carter, Derri...| {1, 3, friend}|{3, Mills, Jeff, 80}|\n",
            "|{1, Carter, Derri...| {1, 2, friend}|{2, May, Derrick,...|{2, 3, follows}|{3, Mills, Jeff, 80}|\n",
            "|{3, Mills, Jeff, 80}| {3, 4, friend}|{4, Hood, Robert,...| {4, 3, friend}|{3, Mills, Jeff, 80}|\n",
            "|{4, Hood, Robert,...|{4, 5, follows}|{5, Banks, Mike, 93}| {5, 3, friend}|{3, Mills, Jeff, 80}|\n",
            "|{3, Mills, Jeff, 80}| {3, 5, friend}|{5, Banks, Mike, 93}| {5, 3, friend}|{3, Mills, Jeff, 80}|\n",
            "|{5, Banks, Mike, 93}| {5, 3, friend}|{3, Mills, Jeff, 80}| {3, 4, friend}|{4, Hood, Robert,...|\n",
            "|{4, Hood, Robert,...| {4, 3, friend}|{3, Mills, Jeff, 80}| {3, 4, friend}|{4, Hood, Robert,...|\n",
            "|{2, May, Derrick,...|{2, 3, follows}|{3, Mills, Jeff, 80}| {3, 4, friend}|{4, Hood, Robert,...|\n",
            "|{1, Carter, Derri...| {1, 3, friend}|{3, Mills, Jeff, 80}| {3, 4, friend}|{4, Hood, Robert,...|\n",
            "|{5, Banks, Mike, 93}| {5, 3, friend}|{3, Mills, Jeff, 80}| {3, 5, friend}|{5, Banks, Mike, 93}|\n",
            "|{4, Hood, Robert,...| {4, 3, friend}|{3, Mills, Jeff, 80}| {3, 5, friend}|{5, Banks, Mike, 93}|\n",
            "|{2, May, Derrick,...|{2, 3, follows}|{3, Mills, Jeff, 80}| {3, 5, friend}|{5, Banks, Mike, 93}|\n",
            "+--------------------+---------------+--------------------+---------------+--------------------+\n",
            "only showing top 20 rows\n",
            "\n"
          ]
        }
      ]
    },
    {
      "cell_type": "code",
      "source": [
        "mutualFriends = (g\n",
        "                 .find(\"(a)-[]->(b); (b)-[]->(c); (c)-[]->(b); (b)-[]->(a)\")\n",
        "                 .dropDuplicates()\n",
        "                )\n",
        "\n",
        "mutualFriends.show(100, False)"
      ],
      "metadata": {
        "colab": {
          "base_uri": "https://localhost:8080/"
        },
        "id": "ktK32r22PaKB",
        "outputId": "f1ab7f19-4a4b-4128-b718-13373d120824"
      },
      "execution_count": null,
      "outputs": [
        {
          "output_type": "stream",
          "name": "stdout",
          "text": [
            "+------------------------+------------------------+------------------------+\n",
            "|a                       |b                       |c                       |\n",
            "+------------------------+------------------------+------------------------+\n",
            "|{4, Hood, Robert, 65}   |{3, Mills, Jeff, 80}    |{4, Hood, Robert, 65}   |\n",
            "|{3, Mills, Jeff, 80}    |{1, Carter, Derrick, 50}|{2, May, Derrick, 26}   |\n",
            "|{4, Hood, Robert, 65}   |{3, Mills, Jeff, 80}    |{1, Carter, Derrick, 50}|\n",
            "|{5, Banks, Mike, 93}    |{3, Mills, Jeff, 80}    |{1, Carter, Derrick, 50}|\n",
            "|{3, Mills, Jeff, 80}    |{1, Carter, Derrick, 50}|{3, Mills, Jeff, 80}    |\n",
            "|{5, Banks, Mike, 93}    |{3, Mills, Jeff, 80}    |{5, Banks, Mike, 93}    |\n",
            "|{5, Banks, Mike, 93}    |{3, Mills, Jeff, 80}    |{4, Hood, Robert, 65}   |\n",
            "|{1, Carter, Derrick, 50}|{2, May, Derrick, 26}   |{1, Carter, Derrick, 50}|\n",
            "|{1, Carter, Derrick, 50}|{3, Mills, Jeff, 80}    |{4, Hood, Robert, 65}   |\n",
            "|{2, May, Derrick, 26}   |{1, Carter, Derrick, 50}|{3, Mills, Jeff, 80}    |\n",
            "|{1, Carter, Derrick, 50}|{3, Mills, Jeff, 80}    |{5, Banks, Mike, 93}    |\n",
            "|{1, Carter, Derrick, 50}|{3, Mills, Jeff, 80}    |{1, Carter, Derrick, 50}|\n",
            "|{99, Page, Allan, 16}   |{98, Berg, Tim, 28}     |{99, Page, Allan, 16}   |\n",
            "|{98, Berg, Tim, 28}     |{99, Page, Allan, 16}   |{98, Berg, Tim, 28}     |\n",
            "|{3, Mills, Jeff, 80}    |{5, Banks, Mike, 93}    |{3, Mills, Jeff, 80}    |\n",
            "|{4, Hood, Robert, 65}   |{3, Mills, Jeff, 80}    |{5, Banks, Mike, 93}    |\n",
            "|{2, May, Derrick, 26}   |{1, Carter, Derrick, 50}|{2, May, Derrick, 26}   |\n",
            "|{3, Mills, Jeff, 80}    |{4, Hood, Robert, 65}   |{3, Mills, Jeff, 80}    |\n",
            "+------------------------+------------------------+------------------------+\n",
            "\n"
          ]
        }
      ]
    },
    {
      "cell_type": "code",
      "source": [
        "mutualFriends.printSchema()"
      ],
      "metadata": {
        "colab": {
          "base_uri": "https://localhost:8080/"
        },
        "id": "o3mjIdikPf5Y",
        "outputId": "50fd7184-179e-4cea-e650-6d8279d7078b"
      },
      "execution_count": null,
      "outputs": [
        {
          "output_type": "stream",
          "name": "stdout",
          "text": [
            "root\n",
            " |-- a: struct (nullable = false)\n",
            " |    |-- id: string (nullable = true)\n",
            " |    |-- name: string (nullable = true)\n",
            " |    |-- firstname: string (nullable = true)\n",
            " |    |-- age: long (nullable = true)\n",
            " |-- b: struct (nullable = false)\n",
            " |    |-- id: string (nullable = true)\n",
            " |    |-- name: string (nullable = true)\n",
            " |    |-- firstname: string (nullable = true)\n",
            " |    |-- age: long (nullable = true)\n",
            " |-- c: struct (nullable = false)\n",
            " |    |-- id: string (nullable = true)\n",
            " |    |-- name: string (nullable = true)\n",
            " |    |-- firstname: string (nullable = true)\n",
            " |    |-- age: long (nullable = true)\n",
            "\n"
          ]
        }
      ]
    },
    {
      "cell_type": "code",
      "source": [
        "mutualFriends.filter('a.id == 2 and c.id == 3').show(10, False)"
      ],
      "metadata": {
        "colab": {
          "base_uri": "https://localhost:8080/"
        },
        "id": "Jrz2snTCPhnQ",
        "outputId": "ac5842e3-96bb-44f0-f018-ac7723702886"
      },
      "execution_count": null,
      "outputs": [
        {
          "output_type": "stream",
          "name": "stdout",
          "text": [
            "+---------------------+------------------------+--------------------+\n",
            "|a                    |b                       |c                   |\n",
            "+---------------------+------------------------+--------------------+\n",
            "|{2, May, Derrick, 26}|{1, Carter, Derrick, 50}|{3, Mills, Jeff, 80}|\n",
            "+---------------------+------------------------+--------------------+\n",
            "\n"
          ]
        }
      ]
    },
    {
      "cell_type": "markdown",
      "source": [
        "## Triangle Count"
      ],
      "metadata": {
        "id": "NO9yVilyPw9h"
      }
    },
    {
      "cell_type": "code",
      "source": [
        "\n",
        "\n",
        "g.triangleCount().show()\n",
        "\n"
      ],
      "metadata": {
        "colab": {
          "base_uri": "https://localhost:8080/"
        },
        "id": "mYW9vY9iPjMA",
        "outputId": "8624e0f9-9de3-492f-c115-945db538cddf"
      },
      "execution_count": null,
      "outputs": [
        {
          "output_type": "stream",
          "name": "stdout",
          "text": [
            "+-----+---+------+---------+---+\n",
            "|count| id|  name|firstname|age|\n",
            "+-----+---+------+---------+---+\n",
            "|    2|  3| Mills|     Jeff| 80|\n",
            "|    1|  1|Carter|  Derrick| 50|\n",
            "|    1|  2|   May|  Derrick| 26|\n",
            "|    0| 98|  Berg|      Tim| 28|\n",
            "|    0| 99|  Page|    Allan| 16|\n",
            "|    1|  5| Banks|     Mike| 93|\n",
            "|    1|  4|  Hood|   Robert| 65|\n",
            "+-----+---+------+---------+---+\n",
            "\n"
          ]
        }
      ]
    },
    {
      "cell_type": "markdown",
      "source": [
        "## Page Rank\n"
      ],
      "metadata": {
        "id": "j5ZvzgdEPtAR"
      }
    },
    {
      "cell_type": "code",
      "source": [
        "pr = g.pageRank(resetProbability=0.15, tol=0.01)\n",
        "## look at the pagerank score for every vertex\n",
        "pr.vertices.show()\n",
        "## look at the weight of every edge\n",
        "pr.edges.show()"
      ],
      "metadata": {
        "colab": {
          "base_uri": "https://localhost:8080/"
        },
        "id": "Oqgaaxo2PklI",
        "outputId": "78acc5aa-6842-4130-80ff-b82dcc093342"
      },
      "execution_count": null,
      "outputs": [
        {
          "output_type": "stream",
          "name": "stdout",
          "text": [
            "+---+------+---------+---+------------------+\n",
            "| id|  name|firstname|age|          pagerank|\n",
            "+---+------+---------+---+------------------+\n",
            "|  3| Mills|     Jeff| 80| 1.853919642738813|\n",
            "| 98|  Berg|      Tim| 28|1.0225331112091938|\n",
            "| 99|  Page|    Allan| 16|1.0225331112091938|\n",
            "|  5| Banks|     Mike| 93|0.9703579134677663|\n",
            "|  1|Carter|  Derrick| 50|0.9055074972891308|\n",
            "|  4|  Hood|   Robert| 65|0.6873519241384106|\n",
            "|  2|   May|  Derrick| 26|0.5377967999474921|\n",
            "+---+------+---------+---+------------------+\n",
            "\n",
            "+---+---+-------+------------------+\n",
            "|src|dst|   type|            weight|\n",
            "+---+---+-------+------------------+\n",
            "|  3|  5| friend|0.3333333333333333|\n",
            "|  3|  1| friend|0.3333333333333333|\n",
            "|  3|  4| friend|0.3333333333333333|\n",
            "| 98| 99| friend|               1.0|\n",
            "| 99| 98| friend|               1.0|\n",
            "|  5|  3| friend|               1.0|\n",
            "|  1|  3| friend|               0.5|\n",
            "|  1|  2| friend|               0.5|\n",
            "|  4|  3| friend|               0.5|\n",
            "|  4|  5|follows|               0.5|\n",
            "|  2|  3|follows|               0.5|\n",
            "|  2|  1| friend|               0.5|\n",
            "+---+---+-------+------------------+\n",
            "\n"
          ]
        }
      ]
    },
    {
      "cell_type": "markdown",
      "source": [
        "## Shortest Path\n"
      ],
      "metadata": {
        "id": "N-OCqo_cPpSJ"
      }
    },
    {
      "cell_type": "code",
      "source": [
        "g.shortestPaths(landmarks=[\"1\", \"5\"]).show()"
      ],
      "metadata": {
        "colab": {
          "base_uri": "https://localhost:8080/"
        },
        "id": "p-y7rlEjPmVQ",
        "outputId": "22a06563-3bc3-40d1-e575-866750ac2ee7"
      },
      "execution_count": null,
      "outputs": [
        {
          "output_type": "stream",
          "name": "stdout",
          "text": [
            "+---+------+---------+---+----------------+\n",
            "| id|  name|firstname|age|       distances|\n",
            "+---+------+---------+---+----------------+\n",
            "|  3| Mills|     Jeff| 80|{5 -> 1, 1 -> 1}|\n",
            "| 98|  Berg|      Tim| 28|              {}|\n",
            "| 99|  Page|    Allan| 16|              {}|\n",
            "|  5| Banks|     Mike| 93|{5 -> 0, 1 -> 2}|\n",
            "|  1|Carter|  Derrick| 50|{5 -> 2, 1 -> 0}|\n",
            "|  4|  Hood|   Robert| 65|{5 -> 1, 1 -> 2}|\n",
            "|  2|   May|  Derrick| 26|{5 -> 2, 1 -> 1}|\n",
            "+---+------+---------+---+----------------+\n",
            "\n"
          ]
        }
      ]
    },
    {
      "cell_type": "code",
      "source": [],
      "metadata": {
        "id": "J-fUgKfgPn4x"
      },
      "execution_count": null,
      "outputs": []
    }
  ]
}